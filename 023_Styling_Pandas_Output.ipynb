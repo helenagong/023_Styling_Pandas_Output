{
 "cells": [
  {
   "cell_type": "markdown",
   "metadata": {},
   "source": [
    "<img src='graphics/style_pandas.jpeg'>\n",
    "\n",
    "<img src='graphics/spacer.png'>\n",
    "\n",
    "<center><font style=\"font-size:40px;\">Styling Pandas Output</font></center>\n",
    "<center>Coded by and Adapted from Cornellius Yudha Wijaya</center>\n",
    "\n",
    "\n",
    "\n",
    "\n",
    "\n",
    "[https://towardsdatascience.com/my-top-4-functions-to-style-the-pandas-dataframe-932cdc79be39]\n",
    "\n",
    "\n",
    "Pandas Dataframe is the most used object for Data scientists to analyze their data. While the main function is to just place your data and get on with the analysis, we could still style our data frame for many purposes; namely, for presenting data or better aesthetics.\n",
    "\n",
    "<p>_____\n",
    "\n",
    "</p>\n",
    "<font style=\"font-size:24px;\">Loading the Libraries and Data</font>\n",
    "\n",
    "Let’s take an example with a dataset. We will use the ‘planets’ data available from the Seaborn library."
   ]
  },
  {
   "cell_type": "code",
   "execution_count": null,
   "metadata": {
    "ExecuteTime": {
     "end_time": "2020-08-20T18:17:57.411732Z",
     "start_time": "2020-08-20T18:17:56.184928Z"
    }
   },
   "outputs": [],
   "source": [
    "#Importing the modules\n",
    "import pandas as pd\n",
    "import seaborn as sns\n",
    "\n",
    "#Loading the dataset\n",
    "planets = sns.load_dataset('planets')\n",
    "\n",
    "#Showing 10 first row in the planets data\n",
    "planets.head()"
   ]
  },
  {
   "cell_type": "markdown",
   "metadata": {},
   "source": [
    "# Hiding Function\n",
    "\n",
    "Sometimes when you do an analysis and present the results, you only want to show the most important aspects. I know when I present my DataFrame to the non-technical person, the question is often about the Index in their default number such as “what is this number?”. For that reason, we can hide the index with the `.hide_index()` function.\n",
    "\n",
    "## .hide_index( )"
   ]
  },
  {
   "cell_type": "code",
   "execution_count": null,
   "metadata": {
    "ExecuteTime": {
     "end_time": "2020-08-20T18:17:57.463166Z",
     "start_time": "2020-08-20T18:17:57.413612Z"
    }
   },
   "outputs": [],
   "source": [
    "#Using hide_index() from the style function\n",
    " \n",
    "planets.head(10).style.hide_index()"
   ]
  },
  {
   "cell_type": "markdown",
   "metadata": {},
   "source": [
    "## .hide_columns( ) \n",
    "\n",
    "Additionally, we can hide unnecessary columns. Let’s say we don't want to show the ‘method’ and ‘year’ columns. To do this, we can use the `.hide_columns([ ])` function."
   ]
  },
  {
   "cell_type": "code",
   "execution_count": null,
   "metadata": {
    "ExecuteTime": {
     "end_time": "2020-08-20T18:17:57.475668Z",
     "start_time": "2020-08-20T18:17:57.465958Z"
    }
   },
   "outputs": [],
   "source": [
    "#Using hide_columns to hide the unnecesary columns\n",
    "planets.head(10).style.hide_index().hide_columns(['method','year'])"
   ]
  },
  {
   "cell_type": "markdown",
   "metadata": {},
   "source": [
    "# Highlight Function\n",
    "\n",
    "## .highlight_max( )\n",
    "\n",
    "There are times when we want to highlight only the important numbers in our DataFrame, for example the highest number. In this case, we can use the built-in `highlight_max( )` method."
   ]
  },
  {
   "cell_type": "code",
   "execution_count": null,
   "metadata": {
    "ExecuteTime": {
     "end_time": "2020-08-20T18:17:57.503472Z",
     "start_time": "2020-08-20T18:17:57.478261Z"
    }
   },
   "outputs": [],
   "source": [
    "#Highlight the maximum number for each column\n",
    "planets.head(10).style.highlight_max(color = 'yellow')"
   ]
  },
  {
   "cell_type": "markdown",
   "metadata": {},
   "source": [
    "## .highlight_min( )\n",
    "\n",
    "But what do we do when we want the minimum numbers highlighted. The built in `.highlight_min( )` function comes to our rescue."
   ]
  },
  {
   "cell_type": "code",
   "execution_count": null,
   "metadata": {
    "ExecuteTime": {
     "end_time": "2020-08-20T18:17:57.526023Z",
     "start_time": "2020-08-20T18:17:57.504679Z"
    }
   },
   "outputs": [],
   "source": [
    "planets.head(10).style.highlight_min(color = 'lightblue')"
   ]
  },
  {
   "cell_type": "markdown",
   "metadata": {},
   "source": [
    "and if you want to chain it, we could also do that."
   ]
  },
  {
   "cell_type": "code",
   "execution_count": null,
   "metadata": {
    "ExecuteTime": {
     "end_time": "2020-08-20T18:17:57.563963Z",
     "start_time": "2020-08-20T18:17:57.527476Z"
    }
   },
   "outputs": [],
   "source": [
    "#Highlight the minimum number with lightblue color and the maximum number with yellow color\n",
    "planets.head(10).style.highlight_max(color='yellow').highlight_min(color = 'lightblue')"
   ]
  },
  {
   "cell_type": "code",
   "execution_count": null,
   "metadata": {
    "ExecuteTime": {
     "end_time": "2020-08-20T18:17:57.592798Z",
     "start_time": "2020-08-20T18:17:57.565704Z"
    }
   },
   "outputs": [],
   "source": [
    "#Adding Axis = 1 to change the direction from column to row\n",
    "planets.head(10).style.highlight_max(color = 'yellow', axis =1)"
   ]
  },
  {
   "cell_type": "markdown",
   "metadata": {},
   "source": [
    "As an addition, we could highlight the null value with the following code."
   ]
  },
  {
   "cell_type": "code",
   "execution_count": null,
   "metadata": {
    "ExecuteTime": {
     "end_time": "2020-08-20T18:17:57.614714Z",
     "start_time": "2020-08-20T18:17:57.595374Z"
    }
   },
   "outputs": [],
   "source": [
    "#Higlight the null value\n",
    "planets.head(10).style.highlight_null(null_color = 'red')"
   ]
  },
  {
   "cell_type": "markdown",
   "metadata": {},
   "source": [
    "# Gradient Function"
   ]
  },
  {
   "cell_type": "code",
   "execution_count": null,
   "metadata": {
    "ExecuteTime": {
     "end_time": "2020-08-20T18:17:57.642209Z",
     "start_time": "2020-08-20T18:17:57.616755Z"
    }
   },
   "outputs": [],
   "source": [
    "#Gradient background color for the numerical columns\n",
    "planets.head(10).style.background_gradient(cmap = 'Blues')"
   ]
  },
  {
   "cell_type": "code",
   "execution_count": null,
   "metadata": {
    "ExecuteTime": {
     "end_time": "2020-08-20T18:17:57.670381Z",
     "start_time": "2020-08-20T18:17:57.643608Z"
    }
   },
   "outputs": [],
   "source": [
    "planets.head(10).style.set_caption('Colormap with a caption.').background_gradient(cmap='Blues')"
   ]
  },
  {
   "cell_type": "markdown",
   "metadata": {},
   "source": [
    "# Custom Function"
   ]
  },
  {
   "cell_type": "code",
   "execution_count": null,
   "metadata": {
    "ExecuteTime": {
     "end_time": "2020-08-20T18:17:57.692858Z",
     "start_time": "2020-08-20T18:17:57.671633Z"
    }
   },
   "outputs": [],
   "source": [
    "#Create the function to color the numerical value into red color\n",
    "def color_below_20_red(value):\n",
    "    if type(value) == type(''):\n",
    "        return 'color:black'\n",
    "    else:\n",
    "        color = 'red' if value <= 20 else 'black'\n",
    "        return 'color: {}'.format(color)\n",
    "#We apply the function to all the element in the data frame by using the applymap function\n",
    "planets.head(10).style.applymap(color_below_20_red)"
   ]
  },
  {
   "cell_type": "markdown",
   "metadata": {},
   "source": [
    "# Bar Chart Integration\n",
    "\n",
    "In Excel, one can conditionally format bar charts into a table/cell. We can do the same in Python using the `.bar()` command. Let's run this next block to see how it works. \n",
    "\n",
    "First, let's generate a DataFrame with which to work. "
   ]
  },
  {
   "cell_type": "code",
   "execution_count": null,
   "metadata": {
    "ExecuteTime": {
     "end_time": "2020-08-20T18:17:57.707679Z",
     "start_time": "2020-08-20T18:17:57.694206Z"
    }
   },
   "outputs": [],
   "source": [
    "import pandas as pd\n",
    "import numpy as np\n",
    "\n",
    "np.random.seed(26)\n",
    "df = pd.DataFrame({'A': np.linspace(1, 10, 10)})\n",
    "df = pd.concat([df, pd.DataFrame(np.random.randn(10, 4), columns=list('BCDE'))],\n",
    "               axis=1)\n",
    "df.iloc[4, 4] = np.nan\n",
    "df.iloc[0, 2] = np.nan\n",
    "\n",
    "df"
   ]
  },
  {
   "cell_type": "code",
   "execution_count": null,
   "metadata": {
    "ExecuteTime": {
     "end_time": "2020-08-20T18:17:57.729108Z",
     "start_time": "2020-08-20T18:17:57.709235Z"
    },
    "scrolled": true
   },
   "outputs": [],
   "source": [
    "df.style.bar(color='red')"
   ]
  },
  {
   "cell_type": "markdown",
   "metadata": {},
   "source": [
    "AND we can do this with selected columns along by tweaking the parameters. By calling up a \"subset\" of the DataFrame, we can select specific columns. Look at the code below to see how this is done. "
   ]
  },
  {
   "cell_type": "code",
   "execution_count": null,
   "metadata": {
    "ExecuteTime": {
     "end_time": "2020-08-20T18:17:57.743887Z",
     "start_time": "2020-08-20T18:17:57.731020Z"
    },
    "scrolled": true
   },
   "outputs": [],
   "source": [
    "df.style.bar(subset=['A', 'D'], color='red')"
   ]
  },
  {
   "cell_type": "markdown",
   "metadata": {},
   "source": [
    "## Let's get really fancy\n",
    "\n",
    "New in version 0.20.0 is the ability to customize further the bar chart: You can now have the df.style.bar be centered on zero or midpoint value (in addition to the already existing way of having the min value at the left side of the cell), and you can pass a list of [color_negative, color_positive].\n",
    "\n",
    "Here’s how you can change the above with the new align='mid' option:"
   ]
  },
  {
   "cell_type": "code",
   "execution_count": null,
   "metadata": {
    "ExecuteTime": {
     "end_time": "2020-08-20T18:17:57.760212Z",
     "start_time": "2020-08-20T18:17:57.745283Z"
    }
   },
   "outputs": [],
   "source": [
    "df.style.bar(subset=['C', 'E'], align='mid', color=['red', 'green'])"
   ]
  },
  {
   "cell_type": "markdown",
   "metadata": {},
   "source": [
    "# Exercises\n",
    "\n",
    "Let's do some practicing of what we have learned. \n",
    "\n",
    "First, let's randomly generate a DataFrame with which to work on these exercises. "
   ]
  },
  {
   "cell_type": "code",
   "execution_count": null,
   "metadata": {
    "ExecuteTime": {
     "end_time": "2020-08-20T18:17:57.775148Z",
     "start_time": "2020-08-20T18:17:57.762532Z"
    }
   },
   "outputs": [],
   "source": [
    "import pandas as pd\n",
    "import numpy as np\n",
    "\n",
    "np.random.seed(42)\n",
    "df = pd.DataFrame({'A': np.linspace(1, 10, 10)})\n",
    "df = pd.concat([df, pd.DataFrame(np.random.randn(10, 4), columns=list('BCDE'))],\n",
    "               axis=1)\n",
    "df.iloc[3, 3] = np.nan\n",
    "df.iloc[0, 2] = np.nan\n",
    "\n",
    "df"
   ]
  },
  {
   "cell_type": "markdown",
   "metadata": {
    "ExecuteTime": {
     "end_time": "2020-08-20T16:58:46.677089Z",
     "start_time": "2020-08-20T16:58:46.673191Z"
    }
   },
   "source": [
    "## Hide the `A` column\n",
    "\n",
    "In the next block, write the code that hides the `A` column of our DataFrame. We want to retain the DataFrame's index column.  "
   ]
  },
  {
   "cell_type": "code",
   "execution_count": null,
   "metadata": {
    "ExecuteTime": {
     "end_time": "2020-08-20T18:17:57.784314Z",
     "start_time": "2020-08-20T18:17:57.776428Z"
    }
   },
   "outputs": [],
   "source": [
    "# Write your code here\n",
    "\n"
   ]
  },
  {
   "cell_type": "markdown",
   "metadata": {},
   "source": [
    "### Bonus 1\n",
    "\n",
    "We have only hidden the `A`column; we have not eliminated it. You can see this by displaying the `df` variable in the next block. \n",
    "\n",
    "But what if we want to save our DataFrame with the `A` column hidden. Write the code to save the DataFrame without the `A` column. Call this new DataFrame `df_no_A`. "
   ]
  },
  {
   "cell_type": "code",
   "execution_count": null,
   "metadata": {
    "ExecuteTime": {
     "end_time": "2020-08-20T18:17:57.794227Z",
     "start_time": "2020-08-20T18:17:57.785713Z"
    }
   },
   "outputs": [],
   "source": [
    "df"
   ]
  },
  {
   "cell_type": "code",
   "execution_count": null,
   "metadata": {
    "ExecuteTime": {
     "end_time": "2020-08-20T18:17:57.804317Z",
     "start_time": "2020-08-20T18:17:57.796196Z"
    }
   },
   "outputs": [],
   "source": [
    "# Write your code here\n"
   ]
  },
  {
   "cell_type": "markdown",
   "metadata": {},
   "source": [
    "## Highlight Values (Conditional Formatting)\n",
    "\n",
    "In the next block, write the code to highlight the maximum value in each column in yellow. Use the `df` variable so we are using the full DataFrame we established for these exercises.  "
   ]
  },
  {
   "cell_type": "code",
   "execution_count": null,
   "metadata": {
    "ExecuteTime": {
     "end_time": "2020-08-20T18:17:57.826957Z",
     "start_time": "2020-08-20T18:17:57.805632Z"
    }
   },
   "outputs": [],
   "source": [
    "# Write your code here.\n",
    "\n"
   ]
  },
  {
   "cell_type": "markdown",
   "metadata": {},
   "source": [
    "### Bonus 2\n",
    "\n",
    "As a bonus, let's highlight the minimum value in each column in yellow and the maximum value in each column in red. Do this in one line of code. "
   ]
  },
  {
   "cell_type": "code",
   "execution_count": null,
   "metadata": {
    "ExecuteTime": {
     "end_time": "2020-08-20T18:17:57.861307Z",
     "start_time": "2020-08-20T18:17:57.828448Z"
    }
   },
   "outputs": [],
   "source": [
    "# Write your code here. \n",
    "\n"
   ]
  },
  {
   "cell_type": "markdown",
   "metadata": {},
   "source": [
    "## Gradient Highlighting\n",
    "\n",
    "In the next block, let's write the code to highlight the DataFrame's values in graduated shades of green."
   ]
  },
  {
   "cell_type": "code",
   "execution_count": null,
   "metadata": {
    "ExecuteTime": {
     "end_time": "2020-08-20T18:17:57.886622Z",
     "start_time": "2020-08-20T18:17:57.863053Z"
    }
   },
   "outputs": [],
   "source": [
    "# Write your code here. \n",
    "\n"
   ]
  },
  {
   "cell_type": "markdown",
   "metadata": {},
   "source": [
    "## Integration of Several Attributes\n",
    "\n",
    "Now for the big challenge. Let's integrate several elements to make our DataFrame much more insightful.\n",
    "\n",
    "In the next block, write the code to:\n",
    "1. hide column `A`\n",
    "1. draw an integrated bar chart where the positive values are yellow and the negative values are orange \n",
    "1. add a caption\n",
    "\n",
    "(**Note**: This can be done in one line of code. )"
   ]
  },
  {
   "cell_type": "code",
   "execution_count": 1,
   "metadata": {
    "ExecuteTime": {
     "end_time": "2020-08-20T18:19:50.955506Z",
     "start_time": "2020-08-20T18:19:50.953115Z"
    }
   },
   "outputs": [],
   "source": [
    "# Write your code here.\n",
    "\n"
   ]
  },
  {
   "cell_type": "code",
   "execution_count": null,
   "metadata": {},
   "outputs": [],
   "source": []
  }
 ],
 "metadata": {
  "kernelspec": {
   "display_name": "Python 3",
   "language": "python",
   "name": "python3"
  },
  "language_info": {
   "codemirror_mode": {
    "name": "ipython",
    "version": 3
   },
   "file_extension": ".py",
   "mimetype": "text/x-python",
   "name": "python",
   "nbconvert_exporter": "python",
   "pygments_lexer": "ipython3",
   "version": "3.7.4"
  },
  "toc": {
   "base_numbering": 1,
   "nav_menu": {},
   "number_sections": true,
   "sideBar": true,
   "skip_h1_title": false,
   "title_cell": "Table of Contents",
   "title_sidebar": "Contents",
   "toc_cell": false,
   "toc_position": {
    "height": "calc(100% - 180px)",
    "left": "10px",
    "top": "150px",
    "width": "210px"
   },
   "toc_section_display": true,
   "toc_window_display": true
  }
 },
 "nbformat": 4,
 "nbformat_minor": 4
}
